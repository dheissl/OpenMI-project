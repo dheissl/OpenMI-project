{
  "nbformat": 4,
  "nbformat_minor": 0,
  "metadata": {
    "colab": {
      "provenance": []
    },
    "kernelspec": {
      "name": "python3",
      "display_name": "Python 3"
    },
    "language_info": {
      "name": "python"
    }
  },
  "cells": [
    {
      "cell_type": "code",
      "execution_count": 1,
      "metadata": {
        "id": "3T1LfEwzK_T0"
      },
      "outputs": [],
      "source": [
        "import numpy as numpy\n",
        "import tensorflow as tf\n",
        "from tensorflow import keras\n",
        "from tensorflow.keras.preprocessing.text import Tokenizer\n",
        "from tensorflow.keras.preprocessing.sequence import pad_sequences\n",
        "import random"
      ]
    },
    {
      "cell_type": "code",
      "source": [
        "articles = []\n",
        "fakeArticles = []"
      ],
      "metadata": {
        "id": "iwbtL1TGLLb8"
      },
      "execution_count": 2,
      "outputs": []
    },
    {
      "cell_type": "code",
      "source": [
        "fakeNews = []\n",
        "fakeInput = open('fakeArticles.txt')\n",
        "fakeArticles = fakeInput.readlines()\n",
        "fakeInput.close\n",
        "\n",
        "for i in range(len(fakeArticles)):\n",
        "  if i%2 == 0:\n",
        "    fakeNews.append(fakeArticles[i])\n",
        "print(len(fakeNews))"
      ],
      "metadata": {
        "colab": {
          "base_uri": "https://localhost:8080/"
        },
        "id": "YcO1oNfdLOXU",
        "outputId": "cf4035c2-d2f3-4143-f1fb-8f6399a84938"
      },
      "execution_count": 3,
      "outputs": [
        {
          "output_type": "stream",
          "name": "stdout",
          "text": [
            "323\n"
          ]
        }
      ]
    },
    {
      "cell_type": "code",
      "source": [
        "realNews =[]\n",
        "fileInput = open('articles.txt')\n",
        "articles = fileInput.readlines()\n",
        "fileInput.close\n",
        "\n",
        "for i in range(len(fakeArticles)):\n",
        "  if i%2 == 0:\n",
        "    realNews.append(articles[i])\n",
        "print(len(realNews))"
      ],
      "metadata": {
        "colab": {
          "base_uri": "https://localhost:8080/"
        },
        "id": "M97XCPjiLQGW",
        "outputId": "42521e2e-7de9-43fc-cd35-6cf6344fe12c"
      },
      "execution_count": 4,
      "outputs": [
        {
          "output_type": "stream",
          "name": "stdout",
          "text": [
            "323\n"
          ]
        }
      ]
    },
    {
      "cell_type": "code",
      "source": [
        "T = int(len(realNews)*0.8)\n",
        "trainNews = realNews[:T]+fakeNews[:T]\n",
        "allNews = realNews+fakeNews"
      ],
      "metadata": {
        "id": "37hhUHg-MvDn"
      },
      "execution_count": 5,
      "outputs": []
    },
    {
      "cell_type": "code",
      "source": [
        "tokenifyer = Tokenizer(num_words=1000)\n",
        "tokenifyer.fit_on_texts(trainNews)\n",
        "testToken = tokenifyer.texts_to_sequences(trainNews)"
      ],
      "metadata": {
        "id": "_zWKx0yWPJa_"
      },
      "execution_count": 6,
      "outputs": []
    },
    {
      "cell_type": "code",
      "source": [
        "tokenator = Tokenizer(num_words=1000, oov_token=\"<OOV>\")\n",
        "tokenator.fit_on_texts(allNews)"
      ],
      "metadata": {
        "id": "lVxG6PEXLgSw"
      },
      "execution_count": 7,
      "outputs": []
    },
    {
      "cell_type": "code",
      "source": [
        "allToken = tokenator.texts_to_sequences(allNews)\n",
        "print(len(testToken[0]))\n",
        "print(len(allToken[0]))"
      ],
      "metadata": {
        "colab": {
          "base_uri": "https://localhost:8080/"
        },
        "id": "bOTSgihhNbXH",
        "outputId": "6fdeae0d-a747-475c-ee36-765d6b79aceb"
      },
      "execution_count": 8,
      "outputs": [
        {
          "output_type": "stream",
          "name": "stdout",
          "text": [
            "326\n",
            "431\n"
          ]
        }
      ]
    },
    {
      "cell_type": "code",
      "source": [
        "allToken = pad_sequences(allToken, padding='post')\n",
        "maxL = len(allToken[0])\n",
        "\n",
        "realLabels = [0]*len(realNews)\n",
        "fakeLabels = [1]*len(fakeNews)\n",
        "allLabels = realLabels+fakeLabels\n",
        "\n",
        "labeledData = list(zip(allToken, allLabels))\n",
        "random.shuffle(labeledData)\n",
        "data = []\n",
        "labels = []\n",
        "data, labels = zip(*labeledData)"
      ],
      "metadata": {
        "id": "3NsesQWYPwI5"
      },
      "execution_count": 9,
      "outputs": []
    },
    {
      "cell_type": "code",
      "source": [
        "n = int(numpy.floor(len(data)*0.8))\n",
        "trainingData = data[:n]\n",
        "testingData = data[n:]\n",
        "\n",
        "trainingLabels = labels[:n]\n",
        "testingLabels = labels[n:]"
      ],
      "metadata": {
        "id": "FAL-n_jvT8pN"
      },
      "execution_count": 10,
      "outputs": []
    },
    {
      "cell_type": "code",
      "source": [
        "trainingData = tf.constant(data[:n])\n",
        "testingData = tf.constant(data[n:])\n",
        "\n",
        "trainingLabels = tf.constant(labels[:n])\n",
        "testingLabels = tf.constant(labels[n:])"
      ],
      "metadata": {
        "id": "5bR7_TADWeUp"
      },
      "execution_count": 11,
      "outputs": []
    },
    {
      "cell_type": "code",
      "source": [
        "model = keras.Sequential([\n",
        "    keras.layers.Embedding(1000, 32, input_length=maxL),\n",
        "    keras.layers.GlobalAveragePooling1D(),\n",
        "    keras.layers.Dense(100, activation='relu'),\n",
        "    keras.layers.Dense(50, activation='relu'),\n",
        "    keras.layers.Dense(24, activation='relu'),\n",
        "    keras.layers.Dense(1, activation='sigmoid')\n",
        "])\n",
        "model.compile(optimizer='adam',\n",
        "              loss='binary_crossentropy',\n",
        "              metrics=['accuracy']\n",
        ")"
      ],
      "metadata": {
        "id": "CAx6nyS3Vh60"
      },
      "execution_count": 12,
      "outputs": []
    },
    {
      "cell_type": "code",
      "source": [
        "model.summary()"
      ],
      "metadata": {
        "colab": {
          "base_uri": "https://localhost:8080/"
        },
        "id": "jrQgiW4riI-Q",
        "outputId": "caaccc91-43a6-4153-a6d6-68f77d036c65"
      },
      "execution_count": 13,
      "outputs": [
        {
          "output_type": "stream",
          "name": "stdout",
          "text": [
            "Model: \"sequential\"\n",
            "_________________________________________________________________\n",
            " Layer (type)                Output Shape              Param #   \n",
            "=================================================================\n",
            " embedding (Embedding)       (None, 890, 32)           32000     \n",
            "                                                                 \n",
            " global_average_pooling1d (G  (None, 32)               0         \n",
            " lobalAveragePooling1D)                                          \n",
            "                                                                 \n",
            " dense (Dense)               (None, 100)               3300      \n",
            "                                                                 \n",
            " dense_1 (Dense)             (None, 50)                5050      \n",
            "                                                                 \n",
            " dense_2 (Dense)             (None, 24)                1224      \n",
            "                                                                 \n",
            " dense_3 (Dense)             (None, 1)                 25        \n",
            "                                                                 \n",
            "=================================================================\n",
            "Total params: 41,599\n",
            "Trainable params: 41,599\n",
            "Non-trainable params: 0\n",
            "_________________________________________________________________\n"
          ]
        }
      ]
    },
    {
      "cell_type": "code",
      "source": [
        "model.fit(trainingData, trainingLabels, epochs=20)"
      ],
      "metadata": {
        "colab": {
          "base_uri": "https://localhost:8080/"
        },
        "id": "V5v03NjkWOdy",
        "outputId": "0658f2b4-9107-4466-802c-640425f67315"
      },
      "execution_count": 14,
      "outputs": [
        {
          "output_type": "stream",
          "name": "stdout",
          "text": [
            "Epoch 1/20\n",
            "17/17 [==============================] - 3s 13ms/step - loss: 0.6931 - accuracy: 0.5252\n",
            "Epoch 2/20\n",
            "17/17 [==============================] - 0s 15ms/step - loss: 0.6915 - accuracy: 0.6143\n",
            "Epoch 3/20\n",
            "17/17 [==============================] - 0s 13ms/step - loss: 0.6866 - accuracy: 0.8992\n",
            "Epoch 4/20\n",
            "17/17 [==============================] - 0s 13ms/step - loss: 0.6716 - accuracy: 0.9283\n",
            "Epoch 5/20\n",
            "17/17 [==============================] - 0s 13ms/step - loss: 0.6337 - accuracy: 0.8779\n",
            "Epoch 6/20\n",
            "17/17 [==============================] - 0s 13ms/step - loss: 0.5332 - accuracy: 0.9632\n",
            "Epoch 7/20\n",
            "17/17 [==============================] - 0s 11ms/step - loss: 0.3453 - accuracy: 0.9690\n",
            "Epoch 8/20\n",
            "17/17 [==============================] - 0s 13ms/step - loss: 0.1799 - accuracy: 0.9709\n",
            "Epoch 9/20\n",
            "17/17 [==============================] - 0s 12ms/step - loss: 0.0876 - accuracy: 0.9864\n",
            "Epoch 10/20\n",
            "17/17 [==============================] - 0s 12ms/step - loss: 0.0464 - accuracy: 0.9942\n",
            "Epoch 11/20\n",
            "17/17 [==============================] - 0s 16ms/step - loss: 0.0358 - accuracy: 0.9942\n",
            "Epoch 12/20\n",
            "17/17 [==============================] - 0s 22ms/step - loss: 0.0238 - accuracy: 0.9942\n",
            "Epoch 13/20\n",
            "17/17 [==============================] - 0s 16ms/step - loss: 0.0194 - accuracy: 0.9961\n",
            "Epoch 14/20\n",
            "17/17 [==============================] - 0s 12ms/step - loss: 0.0098 - accuracy: 1.0000\n",
            "Epoch 15/20\n",
            "17/17 [==============================] - 0s 12ms/step - loss: 0.0074 - accuracy: 1.0000\n",
            "Epoch 16/20\n",
            "17/17 [==============================] - 0s 14ms/step - loss: 0.0061 - accuracy: 1.0000\n",
            "Epoch 17/20\n",
            "17/17 [==============================] - 0s 12ms/step - loss: 0.0054 - accuracy: 1.0000\n",
            "Epoch 18/20\n",
            "17/17 [==============================] - 0s 11ms/step - loss: 0.0039 - accuracy: 1.0000\n",
            "Epoch 19/20\n",
            "17/17 [==============================] - 0s 12ms/step - loss: 0.0032 - accuracy: 1.0000\n",
            "Epoch 20/20\n",
            "17/17 [==============================] - 0s 13ms/step - loss: 0.0027 - accuracy: 1.0000\n"
          ]
        },
        {
          "output_type": "execute_result",
          "data": {
            "text/plain": [
              "<keras.callbacks.History at 0x7fc816f02460>"
            ]
          },
          "metadata": {},
          "execution_count": 14
        }
      ]
    },
    {
      "cell_type": "code",
      "source": [
        "model.evaluate(testingData, testingLabels)"
      ],
      "metadata": {
        "colab": {
          "base_uri": "https://localhost:8080/"
        },
        "id": "bYAueei3YYTR",
        "outputId": "a75a5176-6aa2-4863-ec56-64765701c5e3"
      },
      "execution_count": 15,
      "outputs": [
        {
          "output_type": "stream",
          "name": "stdout",
          "text": [
            "5/5 [==============================] - 0s 6ms/step - loss: 0.0872 - accuracy: 0.9692\n"
          ]
        },
        {
          "output_type": "execute_result",
          "data": {
            "text/plain": [
              "[0.08719566464424133, 0.9692307710647583]"
            ]
          },
          "metadata": {},
          "execution_count": 15
        }
      ]
    },
    {
      "cell_type": "code",
      "source": [
        "#model.predict(testingData)"
      ],
      "metadata": {
        "id": "lpenWFdrW3C9"
      },
      "execution_count": 17,
      "outputs": []
    }
  ]
}